{
  "nbformat": 4,
  "nbformat_minor": 0,
  "metadata": {
    "colab": {
      "name": "CIFAR_Classification_Using_NeuralNetworks.ipynb",
      "version": "0.3.2",
      "provenance": [],
      "collapsed_sections": [],
      "include_colab_link": true
    },
    "kernelspec": {
      "name": "python3",
      "display_name": "Python 3"
    }
  },
  "cells": [
    {
      "cell_type": "markdown",
      "metadata": {
        "id": "view-in-github",
        "colab_type": "text"
      },
      "source": [
        "<a href=\"https://colab.research.google.com/github/AdityaNikhil/Neural_Networks/blob/master/CIFAR_Classification_Using_NeuralNetworks.ipynb\" target=\"_parent\"><img src=\"https://colab.research.google.com/assets/colab-badge.svg\" alt=\"Open In Colab\"/></a>"
      ]
    },
    {
      "cell_type": "markdown",
      "metadata": {
        "id": "RGP5eepx3KiE",
        "colab_type": "text"
      },
      "source": [
        "# Objective is to classify images in Cifar Dataset.\n",
        "#### (In this dataset, there are 50k random images)"
      ]
    },
    {
      "cell_type": "code",
      "metadata": {
        "id": "pLxUcHR4jhXh",
        "colab_type": "code",
        "colab": {}
      },
      "source": [
        "import pandas as pd\n",
        "import numpy as np\n",
        "import matplotlib.pyplot as plt\n",
        "import random\n",
        "import tensorflow as tf\n",
        "from IPython.display import clear_output"
      ],
      "execution_count": 0,
      "outputs": []
    },
    {
      "cell_type": "code",
      "metadata": {
        "id": "v1nmrgK8iT3j",
        "colab_type": "code",
        "colab": {}
      },
      "source": [
        "from keras.datasets import cifar10"
      ],
      "execution_count": 0,
      "outputs": []
    },
    {
      "cell_type": "code",
      "metadata": {
        "id": "gnFGtqawiZ5u",
        "colab_type": "code",
        "colab": {}
      },
      "source": [
        "(x_train, y_train), (x_test, y_test) = cifar10.load_data()\n"
      ],
      "execution_count": 0,
      "outputs": []
    },
    {
      "cell_type": "code",
      "metadata": {
        "id": "MECKSfdmi2Xj",
        "colab_type": "code",
        "outputId": "0ce52e83-f0f4-4d60-a7ff-1bbf61b10b03",
        "cellView": "both",
        "colab": {
          "base_uri": "https://localhost:8080/",
          "height": 50
        }
      },
      "source": [
        "print(\"Shape of features :\",x_train.shape)\n",
        "print(\"Shape of Target :\",y_train.shape)"
      ],
      "execution_count": 70,
      "outputs": [
        {
          "output_type": "stream",
          "text": [
            "Shape of features : (50000, 32, 32, 3)\n",
            "Shape of Target : (50000, 1)\n"
          ],
          "name": "stdout"
        }
      ]
    },
    {
      "cell_type": "markdown",
      "metadata": {
        "id": "sKvpCUerjTfg",
        "colab_type": "text"
      },
      "source": [
        "## As we can see above that the shape of features are unflattened, we need to make them flattened!"
      ]
    },
    {
      "cell_type": "code",
      "metadata": {
        "id": "R_4Grde6i_Mg",
        "colab_type": "code",
        "outputId": "94c24eca-ae6e-48e2-c14c-8dc4c9b3ebaf",
        "colab": {
          "base_uri": "https://localhost:8080/",
          "height": 286
        }
      },
      "source": [
        "plt.imshow(x_train[50])"
      ],
      "execution_count": 71,
      "outputs": [
        {
          "output_type": "execute_result",
          "data": {
            "text/plain": [
              "<matplotlib.image.AxesImage at 0x7f4a19bb1128>"
            ]
          },
          "metadata": {
            "tags": []
          },
          "execution_count": 71
        },
        {
          "output_type": "display_data",
          "data": {
            "image/png": "[encoded data removed]",
            "text/plain": [
              "<Figure size 432x288 with 1 Axes>"
            ]
          },
          "metadata": {
            "tags": []
          }
        }
      ]
    },
    {
      "cell_type": "code",
      "metadata": {
        "id": "xM5AKmqKjftT",
        "colab_type": "code",
        "colab": {}
      },
      "source": [
        "# Flattening the images\n",
        "X_train = []\n",
        "for i in range(len(x_train)):\n",
        "  X_train.append(np.ndarray.flatten(x_train[i]))\n",
        "X_train = np.array(X_train)"
      ],
      "execution_count": 0,
      "outputs": []
    },
    {
      "cell_type": "code",
      "metadata": {
        "id": "pqqdXk3gj5Lf",
        "colab_type": "code",
        "outputId": "e71c4104-c2ef-49d4-9521-a8c21a46ac90",
        "colab": {
          "base_uri": "https://localhost:8080/",
          "height": 50
        }
      },
      "source": [
        "print(\"Shape of features :\",X_train.shape)\n",
        "print(\"Shape of Target :\",y_train.shape)"
      ],
      "execution_count": 73,
      "outputs": [
        {
          "output_type": "stream",
          "text": [
            "Shape of features : (50000, 3072)\n",
            "Shape of Target : (50000, 1)\n"
          ],
          "name": "stdout"
        }
      ]
    },
    {
      "cell_type": "code",
      "metadata": {
        "id": "BP98UaV-j6e6",
        "colab_type": "code",
        "colab": {}
      },
      "source": [
        "#OneHot encoding\n",
        "def OneHot(x):\n",
        "  zeros = [0]*10\n",
        "  for i in range(len(zeros)):\n",
        "    zeros[x] = 1\n",
        "  return zeros\n",
        "\n",
        "Y_OH = []\n",
        "for i in range(len(y_train)):\n",
        "   Y_OH.append(OneHot(y_train[i][0]))\n",
        "Y_OH = np.array(Y_OH)"
      ],
      "execution_count": 0,
      "outputs": []
    },
    {
      "cell_type": "code",
      "metadata": {
        "id": "o9puI0bGlTm-",
        "colab_type": "code",
        "colab": {}
      },
      "source": [
        "#Preparing Tensorflow Placeholder\n",
        "X_PH = tf.placeholder(tf.float64,[None,len(X_train.T)])\n",
        "Y_PH = tf.placeholder(tf.float64,[None,10])"
      ],
      "execution_count": 0,
      "outputs": []
    },
    {
      "cell_type": "code",
      "metadata": {
        "id": "PtefedQuntNN",
        "colab_type": "code",
        "colab": {}
      },
      "source": [
        "#Preparing Tensorflow Variables\n",
        "m1 = np.random.randn(3072,3072)\n",
        "m1 = tf.Variable(m1)\n",
        "c1 = np.random.randn(1,1)\n",
        "c1 = tf.Variable(c1)\n",
        "\n",
        "m2 = np.random.randn(3072,3072)\n",
        "m2 = tf.Variable(m2)\n",
        "c2 = np.random.randn(1,1)\n",
        "c2 = tf.Variable(c2)\n",
        "\n",
        "m3 = np.random.randn(3072,3072)\n",
        "m3 = tf.Variable(m3)\n",
        "c3 = np.random.randn(1,1)\n",
        "c3 = tf.Variable(c3)\n",
        "\n",
        "m4 = np.random.randn(3072,3072)\n",
        "m4 = tf.Variable(m4)\n",
        "c4 = np.random.randn(1,1)\n",
        "c4 = tf.Variable(c4)\n",
        "\n",
        "m5 = np.random.randn(3072,10)\n",
        "m5 = tf.Variable(m5)\n",
        "c5 = np.random.randn(1,1)\n",
        "c5 = tf.Variable(c5)"
      ],
      "execution_count": 0,
      "outputs": []
    },
    {
      "cell_type": "code",
      "metadata": {
        "id": "PvHYfcTHorUg",
        "colab_type": "code",
        "colab": {}
      },
      "source": [
        "L1Out = tf.nn.sigmoid(tf.matmul(X_PH,m1))+c1\n",
        "L2Out = tf.nn.sigmoid(tf.matmul(L1Out,m2))+c2\n",
        "L3Out = tf.nn.sigmoid(tf.matmul(L2Out,m3))+c3\n",
        "L4Out = tf.nn.sigmoid(tf.matmul(L3Out,m4))+c4\n",
        "L5Out = tf.nn.softmax(tf.matmul(L4Out,m5))+c5"
      ],
      "execution_count": 0,
      "outputs": []
    },
    {
      "cell_type": "markdown",
      "metadata": {
        "id": "t0phZPmfyon9",
        "colab_type": "text"
      },
      "source": [
        "## Why use SOFTMAX on final layer?\n",
        "Softmax Activation Function is usually recommended when the classes are more than 2.\n",
        "$$ \\sigma(z)_i=\\frac{e^{z_i}}{\\sum{e^{z_i}}}$$\n",
        "Softmax Function use a function that takes as input a vector of K real numbers, and normalises it into a probability distribution consisting of K probabilities proportional to the exponentials of the input numbers. (i.e) , prior to applying softmax, some vector components could be negative, or greater than one; and might not sum to 1; but after applying softmax, each component will be in the interval (0,1), and the components will add up to 1, so that they can be interpreted as probabilities.Softmax is often used in neural networks, to map the non-normalized output of a network to a probability distribution over predicted output classes.\n",
        "### Source : https://en.wikipedia.org/wiki/Softmax_function\n",
        "### https://github.com/ml4a/ml4a-guides/blob/master/notebooks/keras_classification.ipynb\n",
        "#### (For more info., checkout above links)\n"
      ]
    },
    {
      "cell_type": "code",
      "metadata": {
        "id": "TbzkgxSlrQJb",
        "colab_type": "code",
        "colab": {}
      },
      "source": [
        "#Setting up tensor engine\n",
        "cost = tf.reduce_mean((Y_PH - L5Out)**2)\n",
        "optimizer = tf.train.GradientDescentOptimizer(learning_rate = 0.001)\n",
        "minimizer = optimizer.minimize(cost)\n",
        "\n",
        "init = tf.global_variables_initializer()\n",
        "s = tf.Session()\n",
        "s.run(init)"
      ],
      "execution_count": 0,
      "outputs": []
    },
    {
      "cell_type": "markdown",
      "metadata": {
        "id": "S-7V3HlP2FU8",
        "colab_type": "text"
      },
      "source": [
        "# Comparison of Error with and without applying Softmax"
      ]
    },
    {
      "cell_type": "code",
      "metadata": {
        "id": "nkJBD6LLrbPB",
        "colab_type": "code",
        "colab": {
          "base_uri": "https://localhost:8080/",
          "height": 33
        },
        "outputId": "506ae8d0-61dd-43df-d5f2-a86e7aeda3e4"
      },
      "source": [
        "############################### WITHOUT SOFTMAX ON LAST LAYER ####################################\n",
        "error = []\n",
        "batch = 100\n",
        "for i in range(100):\n",
        "  random_indices = np.random.randint(0,len(x_train),size = batch)\n",
        "  Dict = {Y_PH : Y_OH[random_indices],X_PH : X_train[random_indices]}\n",
        "  s.run(minimizer,feed_dict = Dict)\n",
        "  clear_output(True)\n",
        "  error.append(s.run(cost,feed_dict = Dict))\n",
        "  print(\"Iteraion :\", i , \"Error :\",s.run(cost,feed_dict = Dict))"
      ],
      "execution_count": 107,
      "outputs": [
        {
          "output_type": "stream",
          "text": [
            "Iteraion : 99 Error : 1.839884820319516\n"
          ],
          "name": "stdout"
        }
      ]
    },
    {
      "cell_type": "code",
      "metadata": {
        "id": "v4CxNkHDvMTz",
        "colab_type": "code",
        "colab": {
          "base_uri": "https://localhost:8080/",
          "height": 269
        },
        "outputId": "58e8cfcb-b29c-4e8f-cabc-3b163ef2df60"
      },
      "source": [
        "plt.plot(error)\n",
        "plt.show()"
      ],
      "execution_count": 108,
      "outputs": [
        {
          "output_type": "display_data",
          "data": {
            "image/png": "[encoded data removed]",
            "text/plain": [
              "<Figure size 432x288 with 1 Axes>"
            ]
          },
          "metadata": {
            "tags": []
          }
        }
      ]
    },
    {
      "cell_type": "code",
      "metadata": {
        "id": "5s9l55a4xAAj",
        "colab_type": "code",
        "colab": {
          "base_uri": "https://localhost:8080/",
          "height": 33
        },
        "outputId": "f902c0ea-c842-4e08-8d30-5fc9bda634b1"
      },
      "source": [
        "#################################### WITH SOFTMAX ON LAST LAYER ######################################\n",
        "error = []\n",
        "batch = 100\n",
        "for i in range(100):\n",
        "  random_indices = np.random.randint(0,len(x_train),size = batch)\n",
        "  Dict = {Y_PH : Y_OH[random_indices],X_PH : X_train[random_indices]}\n",
        "  s.run(minimizer,feed_dict = Dict)\n",
        "  clear_output(True)\n",
        "  error.append(s.run(cost,feed_dict = Dict))\n",
        "  print(\"Iteraion :\", i , \"Error :\",s.run(cost,feed_dict = Dict))"
      ],
      "execution_count": 112,
      "outputs": [
        {
          "output_type": "stream",
          "text": [
            "Iteraion : 99 Error : 0.2438174730357906\n"
          ],
          "name": "stdout"
        }
      ]
    },
    {
      "cell_type": "code",
      "metadata": {
        "id": "8D2xlTwrxJf1",
        "colab_type": "code",
        "colab": {
          "base_uri": "https://localhost:8080/",
          "height": 269
        },
        "outputId": "70a707e0-e4e1-475c-b53e-b93775b8575a"
      },
      "source": [
        "plt.plot(error)\n",
        "plt.show()"
      ],
      "execution_count": 113,
      "outputs": [
        {
          "output_type": "display_data",
          "data": {
            "image/png": "[encoded data removed]",
            "text/plain": [
              "<Figure size 432x288 with 1 Axes>"
            ]
          },
          "metadata": {
            "tags": []
          }
        }
      ]
    },
    {
      "cell_type": "markdown",
      "metadata": {
        "id": "V5eqMVLX2UcI",
        "colab_type": "text"
      },
      "source": [
        "## Conclusion : We can conclude by seeing above error values that Softmax is more optimal or better to use when there are more than 2 classes.\n",
        "\n",
        "##### (May vary in CNN, will talk about it in future)"
      ]
    },
    {
      "cell_type": "code",
      "metadata": {
        "id": "r8cu52cjyLI5",
        "colab_type": "code",
        "colab": {}
      },
      "source": [
        ""
      ],
      "execution_count": 0,
      "outputs": []
    }
  ]
}